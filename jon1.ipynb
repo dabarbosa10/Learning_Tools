{
 "cells": [
  {
   "cell_type": "code",
   "execution_count": 1,
   "metadata": {},
   "outputs": [],
   "source": [
    "import json\n",
    "import requests\n",
    "import matplotlib.pyplot as plt\n",
    "import numpy as np"
   ]
  },
  {
   "cell_type": "code",
   "execution_count": 2,
   "metadata": {},
   "outputs": [],
   "source": [
    "response = requests.get(\"https://jsonplaceholder.typicode.com/todos\")\n",
    "todos = json.loads(response.text)\n"
   ]
  },
  {
   "cell_type": "code",
   "execution_count": 3,
   "metadata": {},
   "outputs": [],
   "source": [
    "todos_by_user = {}\n",
    "counter = 0\n",
    "for todo in todos:\n",
    "    # here \"todo\" corresponds to each of the single elements in the json file\n",
    "    # counter +=1\n",
    "    # print(todo[\"completed\"], counter)\n",
    "    # there are 200 elements \n",
    "    if todo[\"completed\"]:\n",
    "        try:\n",
    "            todos_by_user[todo[\"userId\"]]+=1\n",
    "        except KeyError:\n",
    "            todos_by_user[todo[\"userId\"]]=1\n",
    "        \n"
   ]
  },
  {
   "cell_type": "code",
   "execution_count": 4,
   "metadata": {},
   "outputs": [
    {
     "data": {
      "text/plain": [
       "{1: 11, 2: 8, 3: 7, 4: 6, 5: 12, 6: 6, 7: 9, 8: 11, 9: 8, 10: 12}"
      ]
     },
     "execution_count": 4,
     "metadata": {},
     "output_type": "execute_result"
    }
   ],
   "source": [
    "todos_by_user"
   ]
  },
  {
   "cell_type": "code",
   "execution_count": 5,
   "metadata": {},
   "outputs": [
    {
     "name": "stdout",
     "output_type": "stream",
     "text": [
      "[(5, 12), (10, 12), (1, 11), (8, 11), (7, 9), (2, 8), (9, 8), (3, 7), (4, 6), (6, 6)]\n"
     ]
    }
   ],
   "source": [
    "top_users = sorted(todos_by_user.items(), key= lambda item: item[1], reverse= True)\n",
    "print(top_users)"
   ]
  },
  {
   "cell_type": "code",
   "execution_count": 6,
   "metadata": {},
   "outputs": [
    {
     "name": "stdout",
     "output_type": "stream",
     "text": [
      "12\n"
     ]
    }
   ],
   "source": [
    "max_complete = top_users[0][1]\n",
    "print(max_complete)"
   ]
  },
  {
   "cell_type": "code",
   "execution_count": 7,
   "metadata": {},
   "outputs": [],
   "source": [
    "users = []\n",
    "for user, num_complete in top_users:\n",
    "    if num_complete < max_complete:\n",
    "        break\n",
    "    users.append(str(user))\n",
    "\n",
    "max_users = \" and \".join(users)"
   ]
  },
  {
   "cell_type": "code",
   "execution_count": 8,
   "metadata": {},
   "outputs": [
    {
     "name": "stdout",
     "output_type": "stream",
     "text": [
      "['5', '10']\n",
      "5 and 10\n"
     ]
    }
   ],
   "source": [
    "print(users)\n",
    "print(max_users)"
   ]
  },
  {
   "cell_type": "code",
   "execution_count": 9,
   "metadata": {},
   "outputs": [
    {
     "name": "stdout",
     "output_type": "stream",
     "text": [
      "delectus aut autem\n",
      "quis ut nam facilis et officia qui\n",
      "fugiat veniam minus\n",
      "et porro tempora\n",
      "laboriosam mollitia et enim quasi adipisci quia provident illum\n",
      "qui ullam ratione quibusdam voluptatem quia omnis\n",
      "illo expedita consequatur quia in\n",
      "quo adipisci enim quam ut ab\n",
      "molestiae perspiciatis ipsa\n",
      "illo est ratione doloremque quia maiores aut\n",
      "vero rerum temporibus dolor\n",
      "ipsa repellendus fugit nisi\n",
      "et doloremque nulla\n",
      "repellendus sunt dolores architecto voluptatum\n",
      "ab voluptatum amet voluptas\n",
      "accusamus eos facilis sint et aut voluptatem\n",
      "quo laboriosam deleniti aut qui\n",
      "dolorum est consequatur ea mollitia in culpa\n",
      "molestiae ipsa aut voluptatibus pariatur dolor nihil\n",
      "ullam nobis libero sapiente ad optio sint\n",
      "suscipit repellat esse quibusdam voluptatem incidunt\n",
      "distinctio vitae autem nihil ut molestias quo\n",
      "et itaque necessitatibus maxime molestiae qui quas velit\n",
      "adipisci non ad dicta qui amet quaerat doloribus ea\n",
      "voluptas quo tenetur perspiciatis explicabo natus\n",
      "aliquam aut quasi\n",
      "veritatis pariatur delectus\n",
      "nesciunt totam sit blanditiis sit\n",
      "laborum aut in quam\n",
      "nemo perspiciatis repellat ut dolor libero commodi blanditiis omnis\n",
      "repudiandae totam in est sint facere fuga\n",
      "earum doloribus ea doloremque quis\n",
      "sint sit aut vero\n",
      "porro aut necessitatibus eaque distinctio\n",
      "repellendus veritatis molestias dicta incidunt\n",
      "excepturi deleniti adipisci voluptatem et neque optio illum ad\n",
      "sunt cum tempora\n",
      "totam quia non\n",
      "doloremque quibusdam asperiores libero corrupti illum qui omnis\n",
      "totam atque quo nesciunt\n",
      "aliquid amet impedit consequatur aspernatur placeat eaque fugiat suscipit\n",
      "rerum perferendis error quia ut eveniet\n",
      "tempore ut sint quis recusandae\n",
      "cum debitis quis accusamus doloremque ipsa natus sapiente omnis\n",
      "velit soluta adipisci molestias reiciendis harum\n",
      "vel voluptatem repellat nihil placeat corporis\n",
      "nam qui rerum fugiat accusamus\n",
      "sit reprehenderit omnis quia\n",
      "ut necessitatibus aut maiores debitis officia blanditiis velit et\n",
      "cupiditate necessitatibus ullam aut quis dolor voluptate\n",
      "distinctio exercitationem ab doloribus\n",
      "nesciunt dolorum quis recusandae ad pariatur ratione\n",
      "qui labore est occaecati recusandae aliquid quam\n",
      "quis et est ut voluptate quam dolor\n",
      "voluptatum omnis minima qui occaecati provident nulla voluptatem ratione\n",
      "deleniti ea temporibus enim\n",
      "pariatur et magnam ea doloribus similique voluptatem rerum quia\n",
      "est dicta totam qui explicabo doloribus qui dignissimos\n",
      "perspiciatis velit id laborum placeat iusto et aliquam odio\n",
      "et sequi qui architecto ut adipisci\n",
      "odit optio omnis qui sunt\n",
      "et placeat et tempore aspernatur sint numquam\n",
      "doloremque aut dolores quidem fuga qui nulla\n",
      "voluptas consequatur qui ut quia magnam nemo esse\n",
      "fugiat pariatur ratione ut asperiores necessitatibus magni\n",
      "rerum eum molestias autem voluptatum sit optio\n",
      "quia voluptatibus voluptatem quos similique maiores repellat\n",
      "aut id perspiciatis voluptatem iusto\n",
      "doloribus sint dolorum ab adipisci itaque dignissimos aliquam suscipit\n",
      "ut sequi accusantium et mollitia delectus sunt\n",
      "aut velit saepe ullam\n",
      "praesentium facilis facere quis harum voluptatibus voluptatem eum\n",
      "sint amet quia totam corporis qui exercitationem commodi\n",
      "expedita tempore nobis eveniet laborum maiores\n",
      "occaecati adipisci est possimus totam\n",
      "sequi dolorem sed\n",
      "maiores aut nesciunt delectus exercitationem vel assumenda eligendi at\n",
      "reiciendis est magnam amet nemo iste recusandae impedit quaerat\n",
      "eum ipsa maxime ut\n",
      "tempore molestias dolores rerum sequi voluptates ipsum consequatur\n",
      "suscipit qui totam\n",
      "voluptates eum voluptas et dicta\n",
      "quidem at rerum quis ex aut sit quam\n",
      "sunt veritatis ut voluptate\n",
      "et quia ad iste a\n",
      "incidunt ut saepe autem\n",
      "laudantium quae eligendi consequatur quia et vero autem\n",
      "vitae aut excepturi laboriosam sint aliquam et et accusantium\n",
      "sequi ut omnis et\n",
      "molestiae nisi accusantium tenetur dolorem et\n",
      "nulla quis consequatur saepe qui id expedita\n",
      "in omnis laboriosam\n",
      "odio iure consequatur molestiae quibusdam necessitatibus quia sint\n",
      "facilis modi saepe mollitia\n",
      "vel nihil et molestiae iusto assumenda nemo quo ut\n",
      "nobis suscipit ducimus enim asperiores voluptas\n",
      "dolorum laboriosam eos qui iure aliquam\n",
      "debitis accusantium ut quo facilis nihil quis sapiente necessitatibus\n",
      "neque voluptates ratione\n",
      "excepturi a et neque qui expedita vel voluptate\n",
      "explicabo enim cumque porro aperiam occaecati minima\n",
      "sed ab consequatur\n",
      "non sunt delectus illo nulla tenetur enim omnis\n",
      "excepturi non laudantium quo\n",
      "totam quia dolorem et illum repellat voluptas optio\n",
      "ad illo quis voluptatem temporibus\n",
      "praesentium facilis omnis laudantium fugit ad iusto nihil nesciunt\n",
      "a eos eaque nihil et exercitationem incidunt delectus\n",
      "autem temporibus harum quisquam in culpa\n",
      "aut aut ea corporis\n",
      "magni accusantium labore et id quis provident\n",
      "consectetur impedit quisquam qui deserunt non rerum consequuntur eius\n",
      "quia atque aliquam sunt impedit voluptatum rerum assumenda nisi\n",
      "cupiditate quos possimus corporis quisquam exercitationem beatae\n",
      "sed et ea eum\n",
      "ipsa dolores vel facilis ut\n",
      "sequi quae est et qui qui eveniet asperiores\n",
      "quia modi consequatur vero fugiat\n",
      "corporis ducimus ea perspiciatis iste\n",
      "dolorem laboriosam vel voluptas et aliquam quasi\n",
      "inventore aut nihil minima laudantium hic qui omnis\n",
      "provident aut nobis culpa\n",
      "esse et quis iste est earum aut impedit\n",
      "qui consectetur id\n",
      "aut quasi autem iste tempore illum possimus\n",
      "ut asperiores perspiciatis veniam ipsum rerum saepe\n",
      "voluptatem libero consectetur rerum ut\n",
      "eius omnis est qui voluptatem autem\n",
      "rerum culpa quis harum\n",
      "nulla aliquid eveniet harum laborum libero alias ut unde\n",
      "qui ea incidunt quis\n",
      "qui molestiae voluptatibus velit iure harum quisquam\n",
      "et labore eos enim rerum consequatur sunt\n",
      "molestiae doloribus et laborum quod ea\n",
      "facere ipsa nam eum voluptates reiciendis vero qui\n",
      "asperiores illo tempora fuga sed ut quasi adipisci\n",
      "qui sit non\n",
      "placeat minima consequatur rem qui ut\n",
      "consequatur doloribus id possimus voluptas a voluptatem\n",
      "aut consectetur in blanditiis deserunt quia sed laboriosam\n",
      "explicabo consectetur debitis voluptates quas quae culpa rerum non\n",
      "maiores accusantium architecto necessitatibus reiciendis ea aut\n",
      "eum non recusandae cupiditate animi\n",
      "ut eum exercitationem sint\n",
      "beatae qui ullam incidunt voluptatem non nisi aliquam\n",
      "molestiae suscipit ratione nihil odio libero impedit vero totam\n",
      "eum itaque quod reprehenderit et facilis dolor autem ut\n",
      "esse quas et quo quasi exercitationem\n",
      "animi voluptas quod perferendis est\n",
      "eos amet tempore laudantium fugit a\n",
      "accusamus adipisci dicta qui quo ea explicabo sed vero\n",
      "odit eligendi recusandae doloremque cumque non\n",
      "ea aperiam consequatur qui repellat eos\n",
      "rerum non ex sapiente\n",
      "voluptatem nobis consequatur et assumenda magnam\n",
      "nam quia quia nulla repellat assumenda quibusdam sit nobis\n",
      "dolorem veniam quisquam deserunt repellendus\n",
      "debitis vitae delectus et harum accusamus aut deleniti a\n",
      "debitis adipisci quibusdam aliquam sed dolore ea praesentium nobis\n",
      "et praesentium aliquam est\n",
      "ex hic consequuntur earum omnis alias ut occaecati culpa\n",
      "omnis laboriosam molestias animi sunt dolore\n",
      "natus corrupti maxime laudantium et voluptatem laboriosam odit\n",
      "reprehenderit quos aut aut consequatur est sed\n",
      "fugiat perferendis sed aut quidem\n",
      "quos quo possimus suscipit minima ut\n",
      "et quis minus quo a asperiores molestiae\n",
      "recusandae quia qui sunt libero\n",
      "ea odio perferendis officiis\n",
      "quisquam aliquam quia doloribus aut\n",
      "fugiat aut voluptatibus corrupti deleniti velit iste odio\n",
      "et provident amet rerum consectetur et voluptatum\n",
      "harum ad aperiam quis\n",
      "similique aut quo\n",
      "laudantium eius officia perferendis provident perspiciatis asperiores\n",
      "magni soluta corrupti ut maiores rem quidem\n",
      "et placeat temporibus voluptas est tempora quos quibusdam\n",
      "nesciunt itaque commodi tempore\n",
      "omnis consequuntur cupiditate impedit itaque ipsam quo\n",
      "debitis nisi et dolorem repellat et\n",
      "ut cupiditate sequi aliquam fuga maiores\n",
      "inventore saepe cumque et aut illum enim\n",
      "omnis nulla eum aliquam distinctio\n",
      "molestias modi perferendis perspiciatis\n",
      "voluptates dignissimos sed doloribus animi quaerat aut\n",
      "explicabo odio est et\n",
      "consequuntur animi possimus\n",
      "vel non beatae est\n",
      "culpa eius et voluptatem et\n",
      "accusamus sint iusto et voluptatem exercitationem\n",
      "temporibus atque distinctio omnis eius impedit tempore molestias pariatur\n",
      "ut quas possimus exercitationem sint voluptates\n",
      "rerum debitis voluptatem qui eveniet tempora distinctio a\n",
      "sed ut vero sit molestiae\n",
      "rerum ex veniam mollitia voluptatibus pariatur\n",
      "consequuntur aut ut fugit similique\n",
      "dignissimos quo nobis earum saepe\n",
      "quis eius est sint explicabo\n",
      "numquam repellendus a magnam\n",
      "ipsam aperiam voluptates qui\n"
     ]
    }
   ],
   "source": [
    "for todo in todos:\n",
    "    print(todo['title'])"
   ]
  },
  {
   "cell_type": "code",
   "execution_count": 10,
   "metadata": {},
   "outputs": [],
   "source": [
    "rel = {'Complete': 0, 'NComplete': 0}\n",
    "for tod in todos:\n",
    "    if tod['completed'] == False:\n",
    "        rel['NComplete']+=1\n",
    "    elif tod['completed'] == True:\n",
    "        rel['Complete']+=1\n",
    " "
   ]
  },
  {
   "cell_type": "code",
   "execution_count": 11,
   "metadata": {},
   "outputs": [
    {
     "data": {
      "text/plain": [
       "{'Complete': 90, 'NComplete': 110}"
      ]
     },
     "execution_count": 11,
     "metadata": {},
     "output_type": "execute_result"
    }
   ],
   "source": [
    "rel"
   ]
  },
  {
   "cell_type": "code",
   "execution_count": 13,
   "metadata": {},
   "outputs": [],
   "source": [
    "tasks=list(rel.keys())\n",
    "values=list(rel.values())\n",
    "total=np.sum(np.array(values))\n",
    "rel_val=values/total"
   ]
  },
  {
   "cell_type": "code",
   "execution_count": 15,
   "metadata": {},
   "outputs": [
    {
     "data": {
      "image/png": "[encoded data removed]",
      "text/plain": [
       "<Figure size 640x480 with 1 Axes>"
      ]
     },
     "metadata": {},
     "output_type": "display_data"
    }
   ],
   "source": [
    "plt.bar(tasks,rel_val)\n",
    "plt.show()"
   ]
  },
  {
   "cell_type": "code",
   "execution_count": null,
   "metadata": {},
   "outputs": [],
   "source": []
  }
 ],
 "metadata": {
  "kernelspec": {
   "display_name": "undest",
   "language": "python",
   "name": "python3"
  },
  "language_info": {
   "codemirror_mode": {
    "name": "ipython",
    "version": 3
   },
   "file_extension": ".py",
   "mimetype": "text/x-python",
   "name": "python",
   "nbconvert_exporter": "python",
   "pygments_lexer": "ipython3",
   "version": "3.12.3"
  }
 },
 "nbformat": 4,
 "nbformat_minor": 2
}
